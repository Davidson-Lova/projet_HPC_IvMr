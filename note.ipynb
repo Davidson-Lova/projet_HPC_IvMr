{
 "cells": [
  {
   "attachments": {},
   "cell_type": "markdown",
   "metadata": {},
   "source": [
    "# Projet HPC calcul parallèle MACS3\n",
    "\n",
    "---\n",
    "\n",
    "Davidson Lova RAZAFINDRAKOTO, ING3 MACS\n",
    "\n",
    "---"
   ]
  },
  {
   "attachments": {},
   "cell_type": "markdown",
   "metadata": {},
   "source": [
    "## $(\\mathcal{O})$ Programme séquentiel\n",
    "\n",
    "On ressence ici les données initiales du programme séquentiel qu'on va reprendre dans tout les autres versions\n",
    "\n",
    "```C++\n",
    "  int dim[2]; dim[0] = 500; dim[1] = 500;\n",
    "  int nfic     = 2;\n",
    "```\n",
    "\n",
    "```C++\n",
    "  const double dt = 0.005;  // pas de temps\n",
    "  double U[2];\n",
    "  U[0] = 1.;      // vitesse advection\n",
    "  U[1] = 1.;\n",
    " \n",
    "  const double mu = 0.0005;   // coeff diffusion\n",
    "  int Nitmax      = 2000;\n",
    "  int Stepmax     = 2;\n",
    "\n",
    "```\n"
   ]
  },
  {
   "cell_type": "code",
   "execution_count": 26,
   "metadata": {},
   "outputs": [
    {
     "name": "stdout",
     "output_type": "stream",
     "text": [
      "mpic++ -Wall -fPIC -O2 -mtune=native -fopenmp -c Advection_diffusion_seq.cpp\n",
      "mpic++ -Wall -fPIC -O2 -mtune=native -fopenmp -o advectiondiff.exe Advection_diffusion_seq.o   -lm -lrt  -lmpi \n"
     ]
    }
   ],
   "source": [
    "# Build it the sequential\n",
    "!make advectiondiff.exe"
   ]
  },
  {
   "attachments": {},
   "cell_type": "markdown",
   "metadata": {},
   "source": [
    "Création du `resRef.txt`"
   ]
  },
  {
   "cell_type": "code",
   "execution_count": 27,
   "metadata": {},
   "outputs": [
    {
     "name": "stdout",
     "output_type": "stream",
     "text": [
      "Sortie.txt\n"
     ]
    }
   ],
   "source": [
    "!./advectiondiff.exe\n",
    "!./postresultat Sortie.txt\n",
    "!cp res.txt resRef.txt"
   ]
  },
  {
   "cell_type": "code",
   "execution_count": 28,
   "metadata": {},
   "outputs": [
    {
     "name": "stdout",
     "output_type": "stream",
     "text": [
      "The loaded array shape is: (250000, 2) 0.01 300.0\n",
      "Calcul // OK\n",
      "0.0\n"
     ]
    }
   ],
   "source": [
    "# Verifier si la copie est bonne \n",
    "!python3 verif_calcul.py"
   ]
  },
  {
   "cell_type": "code",
   "execution_count": 29,
   "metadata": {},
   "outputs": [],
   "source": [
    "#clean it all up\n",
    "!rm res_Sort*\n",
    "!rm res.txt\n",
    "!rm Sort*\n",
    "!make clean"
   ]
  },
  {
   "attachments": {},
   "cell_type": "markdown",
   "metadata": {},
   "source": [
    "## $(\\mathcal{A})$ OpenMP \"fine grain\""
   ]
  },
  {
   "cell_type": "code",
   "execution_count": 30,
   "metadata": {},
   "outputs": [],
   "source": [
    "# In the beginning\n",
    "# !cp Advection_diffusion_seq.cpp Advection_diffusion_omp.cpp"
   ]
  },
  {
   "cell_type": "code",
   "execution_count": 31,
   "metadata": {},
   "outputs": [
    {
     "name": "stdout",
     "output_type": "stream",
     "text": [
      "mpic++ -Wall -fPIC -O2 -mtune=native -fopenmp -c Advection_diffusion_omp.cpp\n",
      "mpic++ -Wall -fPIC -O2 -mtune=native -fopenmp -o advectiondiff_omp.exe Advection_diffusion_omp.o   -lm -lrt  -lmpi \n"
     ]
    }
   ],
   "source": [
    "!make advectiondiff_omp.exe"
   ]
  },
  {
   "cell_type": "code",
   "execution_count": 32,
   "metadata": {},
   "outputs": [
    {
     "name": "stdout",
     "output_type": "stream",
     "text": [
      "Sortie.txt\n"
     ]
    }
   ],
   "source": [
    "!./advectiondiff_omp.exe\n",
    "!./postresultat Sortie.txt"
   ]
  },
  {
   "cell_type": "code",
   "execution_count": 33,
   "metadata": {},
   "outputs": [
    {
     "name": "stdout",
     "output_type": "stream",
     "text": [
      "The loaded array shape is: (250000, 2) 0.01 300.0\n",
      "Calcul // OK\n",
      "0.0\n"
     ]
    }
   ],
   "source": [
    "!python3 verif_calcul.py"
   ]
  },
  {
   "cell_type": "code",
   "execution_count": 34,
   "metadata": {},
   "outputs": [],
   "source": [
    "#clean it all up \n",
    "!rm res_Sort*\n",
    "!rm res.txt\n",
    "!rm Sort*\n",
    "!make clean"
   ]
  },
  {
   "attachments": {},
   "cell_type": "markdown",
   "metadata": {},
   "source": [
    "## $(\\mathcal{B})$ MPI version 1"
   ]
  },
  {
   "cell_type": "code",
   "execution_count": 35,
   "metadata": {},
   "outputs": [],
   "source": [
    "# !cp Advection_diffusion_seq.cpp Advection_diffusion_mpi1.cpp"
   ]
  },
  {
   "cell_type": "code",
   "execution_count": 36,
   "metadata": {},
   "outputs": [
    {
     "name": "stdout",
     "output_type": "stream",
     "text": [
      "mpic++ -Wall -fPIC -O2 -mtune=native -fopenmp -c Advection_diffusion_mpiv1.cpp\n",
      "mpic++ -Wall -fPIC -O2 -mtune=native -fopenmp -o advectiondiff_mpiv1.exe Advection_diffusion_mpiv1.o   -lm -lrt  -lmpi \n"
     ]
    }
   ],
   "source": [
    "!make advectiondiff_mpiv1.exe"
   ]
  },
  {
   "cell_type": "code",
   "execution_count": 37,
   "metadata": {},
   "outputs": [
    {
     "name": "stdout",
     "output_type": "stream",
     "text": [
      "Sortie00000.txt\n",
      "Sortie00001.txt\n",
      "Sortie00002.txt\n",
      "Sortie00003.txt\n"
     ]
    }
   ],
   "source": [
    "!mpiexec -np 4 advectiondiff_mpiv1.exe\n",
    "!./postresultat Sortie*"
   ]
  },
  {
   "cell_type": "code",
   "execution_count": 38,
   "metadata": {},
   "outputs": [
    {
     "name": "stdout",
     "output_type": "stream",
     "text": [
      "The loaded array shape is: (250000, 2) 0.01 300.0\n",
      "Calcul // OK\n",
      "1.791266912100173e-10\n"
     ]
    }
   ],
   "source": [
    "!python3 verif_calcul.py"
   ]
  },
  {
   "attachments": {},
   "cell_type": "markdown",
   "metadata": {},
   "source": [
    "With 2 processes\n",
    "\n",
    "```Python\n",
    "The loaded array shape is: (250000, 2) 0.01 300.0\n",
    "Calcul // OK\n",
    "1.7772209220551967e-10\n",
    "```\n",
    "\n",
    "With 3 processes\n",
    "\n",
    "```Python\n",
    "The loaded array shape is: (250000, 2) 0.01 300.0\n",
    "Calcul // OK\n",
    "1.800171574517355e-10\n",
    "```\n",
    "\n",
    "With 4 processes\n",
    "\n",
    "```Python\n",
    "The loaded array shape is: (250000, 2) 0.01 300.0\n",
    "Calcul // OK\n",
    "1.791266912100173e-10\n",
    "```\n",
    "\n",
    "With 5 processes\n",
    "\n",
    "```Python\n",
    "The loaded array shape is: (250000, 2) 0.01 300.0\n",
    "Calcul // OK\n",
    "1.7860866150908977e-10\n",
    "```\n"
   ]
  },
  {
   "cell_type": "code",
   "execution_count": 39,
   "metadata": {},
   "outputs": [],
   "source": [
    "#clean it all up \n",
    "!rm res_Sort*\n",
    "!rm res.txt\n",
    "!rm Sort*\n",
    "!make clean"
   ]
  },
  {
   "attachments": {},
   "cell_type": "markdown",
   "metadata": {},
   "source": [
    "## $(\\mathcal{C})$ MPI version 2"
   ]
  },
  {
   "cell_type": "code",
   "execution_count": 40,
   "metadata": {},
   "outputs": [],
   "source": [
    "# !cp Advection_diffusion_seq.cpp Advection_diffusion_mpiv2.cpp"
   ]
  },
  {
   "cell_type": "code",
   "execution_count": 41,
   "metadata": {},
   "outputs": [
    {
     "name": "stdout",
     "output_type": "stream",
     "text": [
      "mpic++ -Wall -fPIC -O2 -mtune=native -fopenmp -c Advection_diffusion_mpiv2.cpp\n",
      "mpic++ -Wall -fPIC -O2 -mtune=native -fopenmp -o advectiondiff_mpiv2.exe Advection_diffusion_mpiv2.o   -lm -lrt  -lmpi \n"
     ]
    }
   ],
   "source": [
    "!make advectiondiff_mpiv2.exe"
   ]
  },
  {
   "cell_type": "code",
   "execution_count": 42,
   "metadata": {},
   "outputs": [],
   "source": [
    "!mpiexec -np 4 advectiondiff_mpiv2.exe"
   ]
  },
  {
   "cell_type": "code",
   "execution_count": 43,
   "metadata": {},
   "outputs": [
    {
     "name": "stdout",
     "output_type": "stream",
     "text": [
      "Sortie00000.txt\n",
      "Sortie00001.txt\n",
      "Sortie00002.txt\n",
      "Sortie00003.txt\n"
     ]
    }
   ],
   "source": [
    "!./postresultat Sortie*"
   ]
  },
  {
   "cell_type": "code",
   "execution_count": 44,
   "metadata": {},
   "outputs": [
    {
     "name": "stdout",
     "output_type": "stream",
     "text": [
      "The loaded array shape is: (250000, 2) 0.01 300.0\n",
      "Calcul // OK\n",
      "1.7708692031387302e-10\n"
     ]
    }
   ],
   "source": [
    "!python3 res_norm.py\n",
    "!python3 verif_calcul.py"
   ]
  },
  {
   "cell_type": "code",
   "execution_count": 45,
   "metadata": {},
   "outputs": [],
   "source": [
    "#clean it all up \n",
    "!rm res_Sort*\n",
    "!rm res.txt\n",
    "!rm Sort*\n",
    "!make clean"
   ]
  }
 ],
 "metadata": {
  "kernelspec": {
   "display_name": "Python 3",
   "language": "python",
   "name": "python3"
  },
  "language_info": {
   "codemirror_mode": {
    "name": "ipython",
    "version": 3
   },
   "file_extension": ".py",
   "mimetype": "text/x-python",
   "name": "python",
   "nbconvert_exporter": "python",
   "pygments_lexer": "ipython3",
   "version": "3.10.6"
  },
  "orig_nbformat": 4,
  "vscode": {
   "interpreter": {
    "hash": "916dbcbb3f70747c44a77c7bcd40155683ae19c65e1c03b4aa3499c5328201f1"
   }
  }
 },
 "nbformat": 4,
 "nbformat_minor": 2
}
