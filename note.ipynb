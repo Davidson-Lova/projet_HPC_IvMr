{
 "cells": [
  {
   "attachments": {},
   "cell_type": "markdown",
   "metadata": {},
   "source": [
    "# Projet HPC calcul parallèle MACS3\n",
    "\n",
    "---\n",
    "\n",
    "Davidson Lova RAZAFINDRAKOTO, ING3 MACS\n",
    "\n",
    "---"
   ]
  },
  {
   "attachments": {},
   "cell_type": "markdown",
   "metadata": {},
   "source": [
    "## $(\\mathcal{O})$ Programme séquentiel\n",
    "\n",
    "On ressence ici les données initiales du programme séquentiel qu'on va reprendre dans tout les autres versions\n",
    "\n",
    "```C++\n",
    "  int dim[2]; dim[0] = 500; dim[1] = 500;\n",
    "  int nfic     = 2;\n",
    "```\n",
    "\n",
    "```C++\n",
    "  const double dt = 0.005;  // pas de temps\n",
    "  double U[2];\n",
    "  U[0] = 1.;      // vitesse advection\n",
    "  U[1] = 1.;\n",
    " \n",
    "  const double mu = 0.0005;   // coeff diffusion\n",
    "  int Nitmax      = 2000;\n",
    "  int Stepmax     = 2;\n",
    "\n",
    "```\n"
   ]
  },
  {
   "attachments": {},
   "cell_type": "markdown",
   "metadata": {},
   "source": [
    "## $(\\mathcal{A})$ OpenMP \"fine grain\""
   ]
  },
  {
   "cell_type": "code",
   "execution_count": 4,
   "metadata": {},
   "outputs": [],
   "source": [
    "!cp Advection_diffusion_seq.cpp Advection_diffusion_omp.cpp"
   ]
  },
  {
   "attachments": {},
   "cell_type": "markdown",
   "metadata": {},
   "source": [
    "## $(\\mathcal{B})$ MPI version 1"
   ]
  },
  {
   "cell_type": "code",
   "execution_count": 5,
   "metadata": {},
   "outputs": [],
   "source": [
    "!cp Advection_diffusion_seq.cpp Advection_diffusion_mpiv1.cpp"
   ]
  },
  {
   "attachments": {},
   "cell_type": "markdown",
   "metadata": {},
   "source": [
    "## $(\\mathcal{C})$ MPI version 2"
   ]
  },
  {
   "cell_type": "code",
   "execution_count": 6,
   "metadata": {},
   "outputs": [],
   "source": [
    "!cp Advection_diffusion_seq.cpp Advection_diffusion_mpiv2.cpp"
   ]
  }
 ],
 "metadata": {
  "kernelspec": {
   "display_name": "Python 3",
   "language": "python",
   "name": "python3"
  },
  "language_info": {
   "codemirror_mode": {
    "name": "ipython",
    "version": 3
   },
   "file_extension": ".py",
   "mimetype": "text/x-python",
   "name": "python",
   "nbconvert_exporter": "python",
   "pygments_lexer": "ipython3",
   "version": "3.10.6"
  },
  "orig_nbformat": 4,
  "vscode": {
   "interpreter": {
    "hash": "916dbcbb3f70747c44a77c7bcd40155683ae19c65e1c03b4aa3499c5328201f1"
   }
  }
 },
 "nbformat": 4,
 "nbformat_minor": 2
}
