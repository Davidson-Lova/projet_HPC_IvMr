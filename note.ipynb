{
 "cells": [
  {
   "attachments": {},
   "cell_type": "markdown",
   "metadata": {},
   "source": [
    "# Projet HPC calcul parallèle MACS3\n",
    "\n",
    "---\n",
    "\n",
    "Davidson Lova RAZAFINDRAKOTO, ING3 MACS\n",
    "\n",
    "---"
   ]
  },
  {
   "cell_type": "code",
   "execution_count": 90,
   "metadata": {},
   "outputs": [],
   "source": [
    "import numpy as np"
   ]
  },
  {
   "cell_type": "code",
   "execution_count": 91,
   "metadata": {},
   "outputs": [],
   "source": [
    "# Wash it all away\n",
    "!make clean"
   ]
  },
  {
   "cell_type": "code",
   "execution_count": 92,
   "metadata": {},
   "outputs": [
    {
     "name": "stdout",
     "output_type": "stream",
     "text": [
      "mpic++ -Wall -fPIC -O2 -mtune=native -fopenmp -c Advection_diffusion_seq.cpp\n",
      "mpic++ -Wall -fPIC -O2 -mtune=native -fopenmp -o advectiondiff.exe Advection_diffusion_seq.o   -lm -lrt  -lmpi \n"
     ]
    }
   ],
   "source": [
    "# Build it the sequential\n",
    "!make advectiondiff.exe"
   ]
  },
  {
   "attachments": {},
   "cell_type": "markdown",
   "metadata": {},
   "source": [
    "## $(\\mathcal{O})$ Programme séquentiel\n",
    "\n",
    "On ressence ici les données initiales du programme séquentiel qu'on va reprendre dans tout les autres versions\n",
    "\n",
    "```C++\n",
    "  int dim[2]; dim[0] = 500; dim[1] = 500;\n",
    "  int nfic     = 2;\n",
    "```\n",
    "\n",
    "```C++\n",
    "  const double dt = 0.005;  // pas de temps\n",
    "  double U[2];\n",
    "  U[0] = 1.;      // vitesse advection\n",
    "  U[1] = 1.;\n",
    " \n",
    "  const double mu = 0.0005;   // coeff diffusion\n",
    "  int Nitmax      = 2000;\n",
    "  int Stepmax     = 2;\n",
    "\n",
    "```\n"
   ]
  },
  {
   "attachments": {},
   "cell_type": "markdown",
   "metadata": {},
   "source": [
    "Création du `resRef.txt`"
   ]
  },
  {
   "cell_type": "code",
   "execution_count": 93,
   "metadata": {},
   "outputs": [
    {
     "name": "stdout",
     "output_type": "stream",
     "text": [
      "Sortie.txt\n"
     ]
    }
   ],
   "source": [
    "!./advectiondiff.exe\n",
    "!./postresultat Sortie.txt\n",
    "!cp res.txt resRef.txt"
   ]
  },
  {
   "cell_type": "code",
   "execution_count": 94,
   "metadata": {},
   "outputs": [
    {
     "name": "stdout",
     "output_type": "stream",
     "text": [
      "The loaded array shape is: (250000, 2) 0.01 300.0\n",
      "Calcul // OK\n",
      "0.0\n"
     ]
    }
   ],
   "source": [
    "# Verifier si la copie est bonne \n",
    "!python3 verif_calcul.py"
   ]
  },
  {
   "cell_type": "code",
   "execution_count": 95,
   "metadata": {},
   "outputs": [],
   "source": [
    "#clean it all up \n",
    "!rm res_Sort*\n",
    "!rm res.txt\n",
    "!rm Sort*\n",
    "!make clean"
   ]
  },
  {
   "attachments": {},
   "cell_type": "markdown",
   "metadata": {},
   "source": [
    "## $(\\mathcal{A})$ OpenMP \"fine grain\""
   ]
  },
  {
   "cell_type": "code",
   "execution_count": 96,
   "metadata": {},
   "outputs": [],
   "source": [
    "# In the beginning\n",
    "# !cp Advection_diffusion_seq.cpp Advection_diffusion_omp.cpp"
   ]
  },
  {
   "cell_type": "code",
   "execution_count": 97,
   "metadata": {},
   "outputs": [
    {
     "name": "stdout",
     "output_type": "stream",
     "text": [
      "mpic++ -Wall -fPIC -O2 -mtune=native -fopenmp -c Advection_diffusion_omp.cpp\n",
      "mpic++ -Wall -fPIC -O2 -mtune=native -fopenmp -o advectiondiff_omp.exe Advection_diffusion_omp.o   -lm -lrt  -lmpi \n"
     ]
    }
   ],
   "source": [
    "!make advectiondiff_omp.exe"
   ]
  },
  {
   "cell_type": "code",
   "execution_count": 98,
   "metadata": {},
   "outputs": [
    {
     "name": "stdout",
     "output_type": "stream",
     "text": [
      "Sortie.txt\n"
     ]
    }
   ],
   "source": [
    "!./advectiondiff_omp.exe\n",
    "!./postresultat Sortie.txt"
   ]
  },
  {
   "cell_type": "code",
   "execution_count": 99,
   "metadata": {},
   "outputs": [
    {
     "name": "stdout",
     "output_type": "stream",
     "text": [
      "The loaded array shape is: (250000, 2) 0.01 300.0\n",
      "Calcul // OK\n",
      "0.0\n"
     ]
    }
   ],
   "source": [
    "!python3 verif_calcul.py"
   ]
  },
  {
   "cell_type": "code",
   "execution_count": 100,
   "metadata": {},
   "outputs": [],
   "source": [
    "#clean it all up \n",
    "!rm res_Sort*\n",
    "!rm res.txt\n",
    "!rm Sort*\n",
    "!make clean"
   ]
  },
  {
   "attachments": {},
   "cell_type": "markdown",
   "metadata": {},
   "source": [
    "## $(\\mathcal{B})$ MPI version 1"
   ]
  },
  {
   "cell_type": "code",
   "execution_count": 101,
   "metadata": {},
   "outputs": [],
   "source": [
    "# !cp Advection_diffusion_seq.cpp Advection_diffusion_mpi1.cpp"
   ]
  },
  {
   "cell_type": "code",
   "execution_count": 40,
   "metadata": {},
   "outputs": [
    {
     "name": "stdout",
     "output_type": "stream",
     "text": [
      "mpic++ -Wall -fPIC -O2 -mtune=native -fopenmp -c Advection_diffusion_mpiv1.cpp\n",
      "mpic++ -Wall -fPIC -O2 -mtune=native -fopenmp -o advectiondiff_mpi1.exe Advection_diffusion_mpiv1.o   -lm -lrt  -lmpi \n"
     ]
    }
   ],
   "source": [
    "!make advectiondiff_mpi1.exe"
   ]
  },
  {
   "cell_type": "code",
   "execution_count": 41,
   "metadata": {},
   "outputs": [
    {
     "name": "stdout",
     "output_type": "stream",
     "text": [
      "Sortie00000.txt\n",
      "Sortie00001.txt\n",
      "Sortie00002.txt\n"
     ]
    }
   ],
   "source": [
    "!mpiexec -np 3 advectiondiff_mpi1.exe\n",
    "!./postresultat Sortie*"
   ]
  },
  {
   "cell_type": "code",
   "execution_count": 42,
   "metadata": {},
   "outputs": [
    {
     "name": "stdout",
     "output_type": "stream",
     "text": [
      "The loaded array shape is: (250000, 2) 0.01 300.0\n",
      "Calcul // KO\n",
      "125.18107268392714\n"
     ]
    }
   ],
   "source": [
    "!python3 verif_calcul.py"
   ]
  },
  {
   "cell_type": "code",
   "execution_count": 43,
   "metadata": {},
   "outputs": [],
   "source": [
    "#clean it all up \n",
    "!rm res_Sort*\n",
    "!rm res.txt\n",
    "!rm Sort*\n",
    "!make clean"
   ]
  },
  {
   "attachments": {},
   "cell_type": "markdown",
   "metadata": {},
   "source": [
    "## $(\\mathcal{C})$ MPI version 2"
   ]
  },
  {
   "cell_type": "code",
   "execution_count": 106,
   "metadata": {},
   "outputs": [],
   "source": [
    "# !cp Advection_diffusion_seq.cpp Advection_diffusion_mpiv2.cpp"
   ]
  }
 ],
 "metadata": {
  "kernelspec": {
   "display_name": "Python 3",
   "language": "python",
   "name": "python3"
  },
  "language_info": {
   "codemirror_mode": {
    "name": "ipython",
    "version": 3
   },
   "file_extension": ".py",
   "mimetype": "text/x-python",
   "name": "python",
   "nbconvert_exporter": "python",
   "pygments_lexer": "ipython3",
   "version": "3.10.6"
  },
  "orig_nbformat": 4,
  "vscode": {
   "interpreter": {
    "hash": "916dbcbb3f70747c44a77c7bcd40155683ae19c65e1c03b4aa3499c5328201f1"
   }
  }
 },
 "nbformat": 4,
 "nbformat_minor": 2
}
