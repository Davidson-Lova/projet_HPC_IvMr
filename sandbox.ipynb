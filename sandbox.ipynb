{
 "cells": [
  {
   "attachments": {},
   "cell_type": "markdown",
   "metadata": {},
   "source": [
    "```C++\n",
    "for (int64_t ific = 0; ific < nfic ; ++ific )\n",
    "      { \n",
    "        //periodicité en Imax et Imin\n",
    "        for (int64_t j = 0; j < Ndim_tab[1]  ; ++j )\n",
    "        {  \n",
    "        //Imin\n",
    "        int l0   = ific +j*Ndim_tab[0]; \n",
    "        int l1   = l0 + Ndim_tab[0] - 2*nfic;\n",
    "\n",
    "        Tout[l0] = Tout[l1];\n",
    "\n",
    "        //Imax\n",
    "        l0   = ific + (j+1)*Ndim_tab[0] - nfic;\n",
    "        l1   = l0 - Ndim_tab[0] + 2*nfic;\n",
    "\n",
    "        Tout[l0] = Tout[l1];\n",
    "        }\n",
    "      }\n",
    "\n",
    "```"
   ]
  },
  {
   "cell_type": "code",
   "execution_count": null,
   "metadata": {},
   "outputs": [],
   "source": [
    "import numpy as np\n",
    "import pylab as plt"
   ]
  },
  {
   "cell_type": "code",
   "execution_count": null,
   "metadata": {},
   "outputs": [],
   "source": [
    "nfic = 2\n",
    "nbp = 3\n",
    "dim = [20,20]"
   ]
  },
  {
   "cell_type": "code",
   "execution_count": null,
   "metadata": {},
   "outputs": [],
   "source": [
    "def vision(rank, nbp) : \n",
    "    Ndim_tab = []\n",
    "    Ndim_tab.append(int(dim[0]/nbp) + (1 if(rank < dim[0]%nbp) else 0) +2*nfic)\n",
    "    Ndim_tab.append(dim[1]+2*nfic)\n",
    "\n",
    "    l_l0 = []\n",
    "    l_l1 = []\n",
    "    for ific in range(0, nfic) :\n",
    "        l_l0.append([])\n",
    "        l_l1.append([])\n",
    "        for j in range(0, Ndim_tab[1]) :\n",
    "            l0   = ific + (j+1)*Ndim_tab[0] - nfic\n",
    "            l1   = l0 - Ndim_tab[0] + 2*nfic\n",
    "\n",
    "            l_l0[ific].append(l0)\n",
    "            l_l1[ific].append(l1)        \n",
    "\n",
    "    lm0 = np.zeros(Ndim_tab[0]*Ndim_tab[1])\n",
    "    lm0[l_l0[0]] = 1\n",
    "    lm0[l_l0[1]] = 2\n",
    "    lm1 = np.zeros(Ndim_tab[0]*Ndim_tab[1])\n",
    "    lm1[l_l1[0]] = 1\n",
    "    lm1[l_l1[1]] = 2\n",
    "\n",
    "\n",
    "    ############################\n",
    "    l_l0 = []\n",
    "    l_l1 = []\n",
    "    for ific in range(0, nfic) :\n",
    "        l_l0.append([])\n",
    "        l_l1.append([])\n",
    "        for j in range(0, Ndim_tab[1]) :\n",
    "            \n",
    "            l0 = ific + j*Ndim_tab[0]\n",
    "            l1 = l0 + Ndim_tab[0] - 2*nfic\n",
    "\n",
    "            l_l0[ific].append(l0)\n",
    "            l_l1[ific].append(l1)\n",
    "\n",
    "    # l = np.arange(Ndim_tab[0]*Ndim_tab[1])\n",
    "    lm0[l_l0[0]] = -1\n",
    "    lm0[l_l0[1]] = -2\n",
    "\n",
    "    lm1[l_l1[0]] = -1\n",
    "    lm1[l_l1[1]] = -2\n",
    "    ##################################\n",
    "     \n",
    "    M0 = lm0.reshape(Ndim_tab[1],Ndim_tab[0])\n",
    "    M1 = lm1.reshape(Ndim_tab[1], Ndim_tab[0])\n",
    "\n",
    "    grad = np.arange(Ndim_tab[0]*Ndim_tab[1]).reshape(Ndim_tab[1],Ndim_tab[0])\n",
    "\n",
    "    return (M0, M1, grad)"
   ]
  },
  {
   "cell_type": "code",
   "execution_count": null,
   "metadata": {},
   "outputs": [],
   "source": [
    "plt.subplots(2,nbp)\n",
    "for rank in range(nbp) :\n",
    "    (M0, M1, grad) = vision(rank, nbp)\n",
    "\n",
    "    plt.subplot(2,nbp,1+2*rank)\n",
    "    plt.imshow(M0 + 3*grad/grad.size, cmap=\"gray\")\n",
    "    plt.gca().invert_yaxis()\n",
    "    plt.title(\"{} IrecV\".format(rank))\n",
    "    \n",
    "    plt.subplot(2,nbp,2+2*rank)\n",
    "    plt.imshow(M1 +3*grad/grad.size, cmap=\"gray\")\n",
    "    plt.gca().invert_yaxis()\n",
    "    plt.title(\"{} Send\".format(rank))\n",
    "    "
   ]
  },
  {
   "attachments": {},
   "cell_type": "markdown",
   "metadata": {},
   "source": [
    "## Understanding the sequential program\n",
    "\n",
    "Variables : \n",
    "```C++\n",
    "int nfic; // Nombre de cellule fantome\n",
    "int dim[2]; // dimension en x et en y sans les cellules fantomes\n",
    "int Ndim_tab[2]; // dimension du tableau en x et y en comptant les cellules phantomes\n",
    "double x[Ndim_tab[0]]; // discretisation en x\n",
    "double y[Ndim_tab[1]]; // discretisation en y\n",
    "double bilan[Ndim_tab[0]*Ndim_tab[1]]; // bilan intial\n",
    "double T1[Ndim_tab[0]*Ndim_tab[1]]; // Temperature initial\n",
    "double T0[Ndim_tab[0]*Ndim_tab[1]]; // Temperature final\n",
    "int dx[2]; // pas de discretisation en x et y\n",
    "double dt; // pas de discretisation en temps\n",
    "double U[2]; //scalaire vitesse supposé comme constante\n",
    "double mu; // Coeff de diffusion\n",
    "int Nitmax; // Nombre d'iteration\n",
    "int Stepmax; // Nombre pas de schéma\n",
    "```\n",
    "\n",
    "Fonction : \n",
    "```C++\n",
    "void init( int* ndim_tab, int* dim, double* T0, double* x , double* y, double* dx, int rank, int nbp);\n",
    "void advection( int* ndim_tab,   double* T, double* bilan, double* dx, double* a, int step );\n",
    "void diffusion( int* ndim_tab,   double* T, double* bilan, double* dx, const double mu );\n",
    "void mise_a_jour( int* ndim_tab,   double* T0, double* T1, double* bilan, const double dt);\n",
    "int main( int nargc, char* argv[])\n",
    "{\n",
    "    //fait tout les allocations en espaces et les initialisations nécessaires\n",
    "    init( Ndim_tab, dim, T0, x, y, dx);\n",
    "    \n",
    "    //Boucle en temps\n",
    "    for (int64_t nit = 0; nit < Nitmax ; ++nit )\n",
    "    { \n",
    "        //Boucle Runge-Kutta\n",
    "        double *Tin; // Temperature input\n",
    "        double *Tout; // Temperature output\n",
    "        double *Tbilan; // Temperature bilan\n",
    "\n",
    "        for (int64_t step = 0; step < Stepmax ; ++step )\n",
    "        { \n",
    "        //mise a jour point courant\n",
    "        if(step==0) { Tin = T0; Tout= T1; Tbilan= T0;}\n",
    "        else        { Tin = T0; Tout= T0; Tbilan= T1;}\n",
    "\n",
    "        //advection\n",
    "        advection(Ndim_tab, Tbilan, bilan,  dx, U , step);\n",
    "\n",
    "        diffusion(Ndim_tab, Tbilan, bilan,  dx, mu);\n",
    "\n",
    "        mise_a_jour(Ndim_tab, Tin, Tout, bilan,  dt);\n",
    "\n",
    "        //Application Condition limite\n",
    "        for (int64_t ific = 0; ific < nfic ; ++ific )\n",
    "        {  \n",
    "            //periodicité en Jmax et Jmin\n",
    "            for (int64_t i = 0; i < Ndim_tab[0]  ; ++i )\n",
    "            {  \n",
    "            //Jmin\n",
    "\n",
    "            //Jmax\n",
    "            }\n",
    "        }\n",
    "\n",
    "        for (int64_t ific = 0; ific < nfic ; ++ific )\n",
    "        {\n",
    "            //...\n",
    "        }\n",
    "\n",
    "        }  // Nstepmax\n",
    "        }  // Nitmax\n",
    "    }\n",
    "```"
   ]
  },
  {
   "attachments": {},
   "cell_type": "markdown",
   "metadata": {},
   "source": [
    "```C++\n",
    "// MPI Stuff\n",
    "  MPI_Request request[2];\n",
    "  int nbp{0};\n",
    "  int rank{0};\n",
    "  MPI_Status stats;\n",
    "  MPI_Comm world;\n",
    "```"
   ]
  },
  {
   "cell_type": "code",
   "execution_count": null,
   "metadata": {},
   "outputs": [],
   "source": [
    "a = 27\n",
    "b = 5\n",
    "r = a%b"
   ]
  },
  {
   "cell_type": "code",
   "execution_count": null,
   "metadata": {},
   "outputs": [],
   "source": [
    "6+6+5+5+5"
   ]
  },
  {
   "cell_type": "code",
   "execution_count": null,
   "metadata": {},
   "outputs": [],
   "source": [
    "shift = 0\n",
    "rank = 4\n",
    "for s in range(rank) :\n",
    "    shift += (s<r)"
   ]
  },
  {
   "cell_type": "code",
   "execution_count": null,
   "metadata": {},
   "outputs": [],
   "source": [
    "dim = [500, 500]\n",
    "nbp = 3\n",
    "rank = 0\n",
    "nfic = 2\n",
    "Ndim_tab = [0,0]\n",
    "\n",
    "Ndim_tab[0] = (dim[0]/nbp) + (1 if(rank < dim[0]%nbp) else 0) + 2*nfic\n",
    "Ndim_tab[1] = dim[1]+2*nfic\n",
    "b_s = 0\n",
    "b = 0"
   ]
  },
  {
   "cell_type": "code",
   "execution_count": null,
   "metadata": {},
   "outputs": [],
   "source": [
    "for rank in range(nbp) :\n",
    "    for rac in range(2) :\n",
    "        if(rac == 0) :\n",
    "            if(rank == 0) :\n",
    "                rank_donor = nbp - 1\n",
    "            else :\n",
    "                rank_donor = rank - 1\n",
    "            shift = 0\n",
    "        else :\n",
    "            if(rank == nbp - 1) :\n",
    "                rank_donor = 0\n",
    "            else :\n",
    "                rank_donor = rank + 1\n",
    "            shift = Ndim_tab[1]*nfic\n",
    "        \n",
    "        etiquette = (rank + 10000*rank_donor)*(1000 if(rac == 0) else 1)\n",
    "        \n",
    "        size     = Ndim_tab[1]*nfic\n",
    "        print(\"{} <--- {} ({}), size : {}, Ad1 : {}\".format(rank, rank_donor, etiquette, size, b_s + shift ))"
   ]
  },
  {
   "cell_type": "code",
   "execution_count": null,
   "metadata": {},
   "outputs": [],
   "source": [
    "for rank in range(nbp): \n",
    "    for rac in range(2) :\n",
    "        if(rac == 0) :\n",
    "            if(rank == 0): \n",
    "                rank_dest = nbp - 1\n",
    "            else :\n",
    "                rank_dest = rank - 1\n",
    "            shift = 0\n",
    "        else :\n",
    "            if(rank == nbp - 1) :\n",
    "                rank_dest = 0\n",
    "            else :\n",
    "                rank_dest = rank + 1\n",
    "            shift = Ndim_tab[1]*nfic\n",
    "        etiquette= (10000*rank + rank_dest)*(1000 if(rac == 1) else 1)\n",
    "\n",
    "        size     = Ndim_tab[1]*nfic\n",
    "        print(\"{} ---> {} ({}), size : {}, Ad1 : {}\".format(rank, rank_dest, etiquette, size, b + shift))"
   ]
  },
  {
   "cell_type": "code",
   "execution_count": 28,
   "metadata": {},
   "outputs": [
    {
     "data": {
      "text/plain": [
       "[0, 2, 1, 3]"
      ]
     },
     "execution_count": 28,
     "metadata": {},
     "output_type": "execute_result"
    }
   ],
   "source": [
    "nbp = 4\n",
    "nbp_y = 2\n",
    "nbp_x = nbp//nbp_y\n",
    "ranks = np.arange(nbp)\n",
    "l = []\n",
    "for i in ranks :\n",
    "    l.append((i%nbp_x)*nbp_y+ (0 if(i < nbp_x) else 1))\n",
    "l"
   ]
  }
 ],
 "metadata": {
  "kernelspec": {
   "display_name": "Python 3",
   "language": "python",
   "name": "python3"
  },
  "language_info": {
   "codemirror_mode": {
    "name": "ipython",
    "version": 3
   },
   "file_extension": ".py",
   "mimetype": "text/x-python",
   "name": "python",
   "nbconvert_exporter": "python",
   "pygments_lexer": "ipython3",
   "version": "3.10.6"
  },
  "orig_nbformat": 4,
  "vscode": {
   "interpreter": {
    "hash": "916dbcbb3f70747c44a77c7bcd40155683ae19c65e1c03b4aa3499c5328201f1"
   }
  }
 },
 "nbformat": 4,
 "nbformat_minor": 2
}
