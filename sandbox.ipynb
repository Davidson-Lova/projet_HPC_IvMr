{
 "cells": [
  {
   "attachments": {},
   "cell_type": "markdown",
   "metadata": {},
   "source": [
    "```C++\n",
    "for (int64_t ific = 0; ific < nfic ; ++ific )\n",
    "      { \n",
    "        //periodicité en Imax et Imin\n",
    "        for (int64_t j = 0; j < Ndim_tab[1]  ; ++j )\n",
    "        {  \n",
    "        //Imin\n",
    "        int l0   = ific +j*Ndim_tab[0]; \n",
    "        int l1   = l0 + Ndim_tab[0] - 2*nfic;\n",
    "\n",
    "        Tout[l0] = Tout[l1];\n",
    "\n",
    "        //Imax\n",
    "        l0   = ific + (j+1)*Ndim_tab[0] - nfic;\n",
    "        l1   = l0 - Ndim_tab[0] + 2*nfic;\n",
    "\n",
    "        Tout[l0] = Tout[l1];\n",
    "        }\n",
    "      }\n",
    "\n",
    "```"
   ]
  },
  {
   "cell_type": "code",
   "execution_count": 56,
   "metadata": {},
   "outputs": [],
   "source": [
    "import numpy as np\n",
    "import pylab as plt"
   ]
  },
  {
   "cell_type": "code",
   "execution_count": 57,
   "metadata": {},
   "outputs": [],
   "source": [
    "nfic = 2\n",
    "Ndim_tab = [10,10]\n",
    "l_l0 = []\n",
    "l_l1 = []\n",
    "for ific in range(0, nfic) :\n",
    "    l_l0.append([])\n",
    "    l_l1.append([])\n",
    "    for j in range(0, Ndim_tab[1]) :\n",
    "        l0   = ific + (j+1)*Ndim_tab[0] - nfic\n",
    "        l1   = l0 - Ndim_tab[0] + 2*nfic\n",
    "\n",
    "        l_l0[ific].append(l0)\n",
    "        l_l1[ific].append(l1)        \n",
    "\n",
    "# l = np.arange(Ndim_tab[0]*Ndim_tab[1])\n",
    "lm0 = np.zeros(Ndim_tab[0]*Ndim_tab[1])\n",
    "lm0[l_l0[0]] = 1\n",
    "lm0[l_l0[1]] = 2\n",
    "\n",
    "\n",
    "lm1 = np.zeros(Ndim_tab[0]*Ndim_tab[1])\n",
    "lm1[l_l1[0]] = 1\n",
    "lm1[l_l1[1]] = 2"
   ]
  },
  {
   "cell_type": "code",
   "execution_count": 58,
   "metadata": {},
   "outputs": [],
   "source": [
    "l_l0 = []\n",
    "l_l1 = []\n",
    "for ific in range(0, nfic) :\n",
    "    l_l0.append([])\n",
    "    l_l1.append([])\n",
    "    for j in range(0, Ndim_tab[1]) :\n",
    "        \n",
    "        l0 = ific + j*Ndim_tab[0]\n",
    "        l1 = l0 + Ndim_tab[0] - 2*nfic\n",
    "\n",
    "        l_l0[ific].append(l0)\n",
    "        l_l1[ific].append(l1)\n",
    "\n",
    "# l = np.arange(Ndim_tab[0]*Ndim_tab[1])\n",
    "lm0[l_l0[0]] = -1\n",
    "lm0[l_l0[1]] = -2\n",
    "\n",
    "lm1[l_l1[0]] = -1\n",
    "lm1[l_l1[1]] = -2"
   ]
  },
  {
   "cell_type": "code",
   "execution_count": 59,
   "metadata": {},
   "outputs": [
    {
     "data": {
      "text/plain": [
       "<matplotlib.image.AxesImage at 0x7f63468bf580>"
      ]
     },
     "execution_count": 59,
     "metadata": {},
     "output_type": "execute_result"
    },
    {
     "data": {
      "image/png": "[encoded data removed]",
      "text/plain": [
       "<Figure size 640x480 with 2 Axes>"
      ]
     },
     "metadata": {},
     "output_type": "display_data"
    }
   ],
   "source": [
    "M0 = lm0.reshape(Ndim_tab[0], Ndim_tab[1])\n",
    "M1 = lm1.reshape(Ndim_tab[0], Ndim_tab[1])\n",
    "\n",
    "plt.subplot(1,2,1)\n",
    "plt.imshow(M0, cmap=\"gray\")\n",
    "plt.subplot(1,2,2)\n",
    "plt.imshow(M1, cmap=\"gray\")"
   ]
  }
 ],
 "metadata": {
  "kernelspec": {
   "display_name": "Python 3",
   "language": "python",
   "name": "python3"
  },
  "language_info": {
   "codemirror_mode": {
    "name": "ipython",
    "version": 3
   },
   "file_extension": ".py",
   "mimetype": "text/x-python",
   "name": "python",
   "nbconvert_exporter": "python",
   "pygments_lexer": "ipython3",
   "version": "3.10.6"
  },
  "orig_nbformat": 4,
  "vscode": {
   "interpreter": {
    "hash": "916dbcbb3f70747c44a77c7bcd40155683ae19c65e1c03b4aa3499c5328201f1"
   }
  }
 },
 "nbformat": 4,
 "nbformat_minor": 2
}
