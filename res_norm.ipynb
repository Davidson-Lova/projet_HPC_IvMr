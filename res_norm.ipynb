{
 "cells": [
  {
   "cell_type": "code",
   "execution_count": 8,
   "metadata": {},
   "outputs": [],
   "source": [
    "import numpy as np\n",
    "\n",
    "res = np.loadtxt('res.txt',dtype=\"float64\")\n",
    "\n",
    "bla = int(np.sqrt(res.shape[0]))\n",
    "bla_2 = bla//2\n",
    "bla_l = res[1:1,:]\n",
    "for i in range(bla) :\n",
    "    bla_t = np.concatenate((res[i*bla_2:(i+1)*bla_2,:], res[i*bla_2 + bla_2*bla: (i+1)*bla_2 + bla_2*bla,:]))\n",
    "    bla_l = np.concatenate((bla_l, bla_t))\n",
    "\n",
    "content = \"\"\n",
    "count = 0\n",
    "for i in range(bla_l.shape[0]) :\n",
    "    content += \"  \"\n",
    "    for j in range(bla_l.shape[1]) :\n",
    "        content += \"{} \".format(bla_l[i,j])\n",
    "    content += \"\\n\"\n",
    "    if (count == bla - 1) :\n",
    "        content += \"  \\n\"\n",
    "    if(count == bla) :\n",
    "        count = 0\n",
    "    count += 1\n",
    "\n",
    "file = open(\"res_2.txt\", \"w+\")\n",
    "file.write(content)\n",
    "file.close()"
   ]
  },
  {
   "cell_type": "code",
   "execution_count": 5,
   "metadata": {},
   "outputs": [
    {
     "data": {
      "text/plain": [
       "(250000, 3)"
      ]
     },
     "execution_count": 5,
     "metadata": {},
     "output_type": "execute_result"
    }
   ],
   "source": [
    "res.shape"
   ]
  },
  {
   "cell_type": "code",
   "execution_count": 9,
   "metadata": {},
   "outputs": [
    {
     "data": {
      "text/plain": [
       "(250000, 3)"
      ]
     },
     "execution_count": 9,
     "metadata": {},
     "output_type": "execute_result"
    }
   ],
   "source": [
    "bla_l.shape"
   ]
  }
 ],
 "metadata": {
  "language_info": {
   "name": "python"
  },
  "orig_nbformat": 4
 },
 "nbformat": 4,
 "nbformat_minor": 2
}
